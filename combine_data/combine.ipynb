{
 "cells": [
  {
   "cell_type": "code",
   "execution_count": 17,
   "metadata": {},
   "outputs": [],
   "source": [
    "import pyodbc\n",
    "import json\n",
    "from math import floor, ceil"
   ]
  },
  {
   "cell_type": "code",
   "execution_count": 18,
   "metadata": {},
   "outputs": [],
   "source": [
    "cnxn = pyodbc.connect('DRIVER={ODBC Driver 17 for SQL Server};SERVER=berlinhack.database.windows.net;DATABASE=berlinhack;UID=berlinhack;PWD=Boring123')\n",
    "cursor = cnxn.cursor()"
   ]
  },
  {
   "cell_type": "markdown",
   "metadata": {},
   "source": [
    "Emotions file comes from our script that calls Face API on the frames of the reaction image. Topics file is the output of the Video Indexer for the content video."
   ]
  },
  {
   "cell_type": "code",
   "execution_count": 19,
   "metadata": {},
   "outputs": [],
   "source": [
    "emotions_file = 'data.json'\n",
    "topics_file = 'video-indexer.json'"
   ]
  },
  {
   "cell_type": "code",
   "execution_count": 21,
   "metadata": {},
   "outputs": [],
   "source": [
    "with open(emotions_file) as fp:\n",
    "    emotions = json.load(fp)\n",
    "\n",
    "with open(topics_file) as fp:\n",
    "    topics = json.load(fp)"
   ]
  },
  {
   "cell_type": "code",
   "execution_count": null,
   "metadata": {},
   "outputs": [],
   "source": [
    "video_name = 'video'\n",
    "cursor.execute('INSERT INTO videos (name) OUTPUT Inserted.ID VALUES ?', video_name)\n",
    "video_id = cursor.fetchone()[0]\n",
    "cursor.commit()"
   ]
  },
  {
   "cell_type": "code",
   "execution_count": 26,
   "metadata": {},
   "outputs": [],
   "source": [
    "result_values = []\n",
    "for timestamp, face_values in emotions.items():\n",
    "    for face in face_values:\n",
    "        values = face['faceAttributes']\n",
    "        result_values.append([video_id, int(timestamp), int(values['age']),\n",
    "                      values['gender'] == 'male', values['emotion']['anger'],\n",
    "                      values['emotion']['contempt'], values['emotion']['disgust'],\n",
    "                      values['emotion']['fear'], values['emotion']['happiness'],\n",
    "                      values['emotion']['neutral'], values['emotion']['sadness'],\n",
    "                      values['emotion']['surprise']])\n",
    "\n",
    "insights = topics['summarizedInsights']\n",
    "duration = round(insights['duration']['seconds'])"
   ]
  },
  {
   "cell_type": "code",
   "execution_count": 49,
   "metadata": {},
   "outputs": [],
   "source": [
    "steps = dict((s, []) for s in range(0, duration + 10, 10))\n",
    "all_topics = set()"
   ]
  },
  {
   "cell_type": "code",
   "execution_count": 114,
   "metadata": {},
   "outputs": [],
   "source": [
    "for keyword_item in topics['summarizedInsights']['keywords']:\n",
    "    for appearance in keyword_item['appearances']:\n",
    "        for s in range(round(appearance['startSeconds']) // 10 * 10,\n",
    "                       (round(appearance['endSeconds']) // 10 + 1) * 10, 10):\n",
    "            steps[s].append(keyword_item['name'])\n",
    "            all_topics.add(keyword_item['name'])"
   ]
  },
  {
   "cell_type": "code",
   "execution_count": 89,
   "metadata": {},
   "outputs": [],
   "source": [
    "topics_string = ','.join('\\'' + t + '\\'' for t in all_topics)\n",
    "cursor.execute('''SELECT name FROM topics2 WHERE name IN ({})'''.format(topics_string))\n",
    "topics_present = cursor.fetchall()[0]\n",
    "to_create_topics = all_topics - set(topics_present)"
   ]
  },
  {
   "cell_type": "code",
   "execution_count": 97,
   "metadata": {},
   "outputs": [],
   "source": [
    "cursor.executemany('''INSERT INTO topics2 (name) VALUES (?)''', [[i] for i in to_create_topics])\n",
    "cursor.commit()"
   ]
  },
  {
   "cell_type": "code",
   "execution_count": 115,
   "metadata": {},
   "outputs": [],
   "source": [
    "row_ids = []\n",
    "results_query = '''\n",
    "INSERT INTO results2 \n",
    "(video_id, timestamp, age, male, anger,\n",
    "    contempt, disgust, fear, happiness, neutral, sadness,\n",
    "    surprise)\n",
    "OUTPUT inserted.id\n",
    "VALUES (?, ?, ?, ?, ?, ?, ?, ?, ?, ?, ?, ?)\n",
    "'''"
   ]
  },
  {
   "cell_type": "code",
   "execution_count": 122,
   "metadata": {},
   "outputs": [],
   "source": [
    "for res in result_values:\n",
    "    cursor.execute(results_query, res)\n",
    "    i = cursor.fetchone()\n",
    "    \n",
    "    stamp = res[1]\n",
    "    if stamp not in steps:\n",
    "        continue\n",
    "        \n",
    "    for topic in set(steps[stamp]):\n",
    "        cursor.execute('''INSERT INTO results_topics2 (results_id, topic_id)\n",
    "                       SELECT ?, id FROM topics2 WHERE name=?\n",
    "                       ''', i[0], topic)\n",
    "cursor.commit()"
   ]
  }
 ],
 "metadata": {
  "kernelspec": {
   "display_name": "Python 3",
   "language": "python",
   "name": "python3"
  },
  "language_info": {
   "codemirror_mode": {
    "name": "ipython",
    "version": 3
   },
   "file_extension": ".py",
   "mimetype": "text/x-python",
   "name": "python",
   "nbconvert_exporter": "python",
   "pygments_lexer": "ipython3",
   "version": "3.5.2"
  }
 },
 "nbformat": 4,
 "nbformat_minor": 2
}
